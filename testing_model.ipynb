{
 "cells": [
  {
   "cell_type": "code",
   "execution_count": 1,
   "metadata": {},
   "outputs": [],
   "source": [
    "import tensorflow as tf\n",
    "import keras\n",
    "# Define the input shape\n",
    "input_shape = (224, 224, 3)\n",
    "\n",
    "mod = keras.models.load_model(\"C:/Users/Charanteja/OneDrive/Pictures/Desktop/B.Tech_Final_Year_Project/har_inceptionnet.h5\", compile= False,custom_objects={'input_shape': input_shape})\n"
   ]
  },
  {
   "cell_type": "code",
   "execution_count": null,
   "metadata": {},
   "outputs": [],
   "source": [
    "from ultralytics import YOLO\n",
    "import cv2\n",
    "import matplotlib.pyplot as plt\n",
    "import numpy as np\n",
    "\n",
    "person_detector = YOLO(\"yolov8n.pt\")\n",
    "# res = person_detector(\"D:\\sampled_frames\\kicking\\S1_kicking_toRight_HD\\Images\\S1_kicking_toRight_HD_0.jpg\",classes=0)\n",
    "\n",
    "\n",
    "classes = ['clapping','hitting','kicking','punching','running','stabbing','walking','waving_hands']\n",
    "cam2 = cv2.VideoCapture(\"C:/Users/Charanteja/uav_actions_train/train_set/walking_f_b/S10_walking_frontView_HD.mp4\")\n",
    "while cam2.isOpened():\n",
    "        \n",
    "    ret,image = cam2.read()\n",
    "    image_rgb = cv2.cvtColor(image, cv2.COLOR_BGR2RGB)\n",
    "    results = person_detector(image_rgb,classes=0)\n",
    "    \n",
    "    for detections in results:\n",
    "        bbox = detections.boxes.xyxy\n",
    "        bbox_ = np.array(bbox)\n",
    "        annot = list([int(bbox_[0][i]) for i in (range(len(bbox_[0])))])\n",
    "        x1,y1,x2,y2 = annot[0],annot[1],annot[2],annot[3]\n",
    "        x1 = int(x1)\n",
    "        y1 = int(y1)\n",
    "        x2 = int(x2)\n",
    "        y2 = int(y2)\n",
    "        # color = (0,255,0)\n",
    "        p1 = (x1,y1)\n",
    "        p2 = (x2,y2)\n",
    "        cv2.rectangle(image_rgb, p1, p2, (0, 255, 255), 2)\n",
    "        person = image_rgb[y1:y2,x1:x2]\n",
    "        person = cv2.resize(person,(224,224))\n",
    "        person = person/255.0\n",
    "        person = person.reshape(224,224,3)\n",
    "        person = np.expand_dims(person,axis=0)\n",
    "        pred = mod.predict(person)\n",
    "        predicted_class = np.argmax(pred, axis=1)\n",
    "        label = classes[int(predicted_class)]\n",
    "        #print(label)\n",
    "        # plt.imshow(image_rgb)\n",
    "        # plt.show()\n",
    "        # break\n",
    "        cv2.putText(image_rgb, label,(x1,y1-10), cv2.FONT_HERSHEY_SIMPLEX, 3, (0, 255, 0), 8)\n",
    "        image_rgb=cv2.resize(image_rgb,(800,600))\n",
    "        image_rgb = cv2.cvtColor(image_rgb, cv2.COLOR_BGR2RGB)\n",
    "        cv2.imshow('Detected persons', image_rgb)\n",
    "    if cv2.waitKey(1) & 0xFF == ord('q'):\n",
    "        cam2.release()\n",
    "cv2.destroyAllWindows()\n",
    "\n",
    "# Replace 'path_to_image' with the path to your image file"
   ]
  }
 ],
 "metadata": {
  "kernelspec": {
   "display_name": "Python 3",
   "language": "python",
   "name": "python3"
  },
  "language_info": {
   "codemirror_mode": {
    "name": "ipython",
    "version": 3
   },
   "file_extension": ".py",
   "mimetype": "text/x-python",
   "name": "python",
   "nbconvert_exporter": "python",
   "pygments_lexer": "ipython3",
   "version": "3.11.5"
  }
 },
 "nbformat": 4,
 "nbformat_minor": 2
}
