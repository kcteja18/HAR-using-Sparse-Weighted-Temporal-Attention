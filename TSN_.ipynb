{
 "cells": [
  {
   "cell_type": "code",
   "execution_count": null,
   "metadata": {},
   "outputs": [],
   "source": [
    "import os\n",
    "import cv2\n",
    "import ast\n",
    "import shutil\n",
    "import random\n",
    "import scipy.io\n",
    "import numpy as np\n",
    "import pandas as pd\n"
   ]
  },
  {
   "cell_type": "code",
   "execution_count": null,
   "metadata": {},
   "outputs": [],
   "source": [
    "# video sampling\n",
    "def extract_frames(video_path, output_folder, num_frames):\n",
    "    cap = cv2.VideoCapture(video_path)\n",
    "    total_frames = int(cap.get(cv2.CAP_PROP_FRAME_COUNT))\n",
    "    indices = [int(i * total_frames / num_frames) for i in range(num_frames)]\n",
    "    os.makedirs(output_folder, exist_ok=True)\n",
    "    extracted_indices = []\n",
    "    frame_number = 0\n",
    "    while True:\n",
    "        ret, frame = cap.read()\n",
    "        if not ret:\n",
    "            break\n",
    "        if frame_number in indices:\n",
    "            frame_name = f\"{os.path.splitext(os.path.basename(video_path))[0]}_{frame_number}.jpg\"\n",
    "            extracted_indices.append(frame_number)\n",
    "        frame_number += 1\n",
    "    \n",
    "    cap.release()\n",
    "    return extracted_indices\n",
    "\n",
    "video_path = r\"C:\\Users\\Charanteja\\uav_actions_train\\train_set\\clapping\\S1_clapping_HD.mp4\"\n",
    "output_dir = r\"D:\\Test\\boxing\"\n",
    "num_frames = 30\n",
    "extracted_indices = extract_frames(video_path, output_dir, num_frames)\n",
    "print(\"Indices of extracted frames:\", extracted_indices)\n"
   ]
  },
  {
   "cell_type": "code",
   "execution_count": null,
   "metadata": {},
   "outputs": [],
   "source": [
    "\n",
    "def extract_frames(video_path, output_dir):\n",
    "    cap = cv2.VideoCapture(video_path)\n",
    "    total_frames = int(cap.get(cv2.CAP_PROP_FRAME_COUNT))\n",
    "    indices = [int(i * total_frames / 30) for i in range(30)]\n",
    "    video_name = os.path.splitext(os.path.basename(video_path))[0]\n",
    "    video_output_folder = os.path.join(output_dir, os.path.basename(os.path.dirname(video_path)), video_name)\n",
    "    os.makedirs(video_output_folder, exist_ok=True)\n",
    "    extracted_indices = []\n",
    "    frame_number = 0\n",
    "    while True:\n",
    "        ret, frame = cap.read()\n",
    "        if not ret:\n",
    "            break\n",
    "        if frame_number in indices:\n",
    "            frame_name = f\"{video_name}_{frame_number}.jpg\"\n",
    "            cv2.imwrite(os.path.join(video_output_folder, frame_name), frame)\n",
    "            extracted_indices.append(frame_number)\n",
    "        frame_number += 1\n",
    "    cap.release()\n",
    "    return extracted_indices\n",
    "\n",
    "# Function to process all videos in folders\n",
    "def process_videos(root_folder, output_dir):\n",
    "    video_data = []\n",
    "    for class_folder in os.listdir(root_folder):\n",
    "        class_path = os.path.join(root_folder, class_folder)\n",
    "        if os.path.isdir(class_path):\n",
    "            for video_file in os.listdir(class_path):\n",
    "                video_path = os.path.join(class_path, video_file)\n",
    "                extracted_indices = extract_frames(video_path, output_dir)\n",
    "                video_data.append({\"VideoName\": video_file, \"Indices\": extracted_indices})\n",
    "    \n",
    "    return pd.DataFrame(video_data)\n",
    "\n",
    "root_folder = \"C:/Users/Charanteja/uav_actions_train/train_set\"\n",
    "output_dir = \"D:/sampled_frames/\"\n",
    "df = process_videos(root_folder, output_dir)\n",
    "df\n"
   ]
  },
  {
   "cell_type": "code",
   "execution_count": null,
   "metadata": {},
   "outputs": [],
   "source": []
  }
 ],
 "metadata": {
  "language_info": {
   "name": "python"
  }
 },
 "nbformat": 4,
 "nbformat_minor": 2
}
